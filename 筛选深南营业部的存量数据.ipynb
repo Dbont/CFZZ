{
 "cells": [
  {
   "cell_type": "code",
   "execution_count": 1,
   "metadata": {
    "collapsed": false
   },
   "outputs": [],
   "source": [
    "import numpy as np\n",
    "import pandas as pd\n",
    "import os\n",
    "os.chdir( r'E:\\Work\\CFZZ\\Data\\PreData2')\n",
    "\n",
    "# 读取原始数据名称\n",
    "def GetRawDataName(path = r'E:\\Work\\CFZZ\\Data\\PreData2'):\n",
    "    os.chdir(path)\n",
    "    name = os.listdir()\n",
    "    return name[:4]\n",
    "\n",
    "# 建立预处理后的数据名称，需要传入原始数据名称\n",
    "# 原始数据为分页的xls文件，处理后数据名称\n",
    "def RowToPreName(RawDataName = GetRawDataName(), WhichFormat = '.xlsx'):\n",
    "    name = []\n",
    "    for i in RawDataName:\n",
    "        ss = i.split('.')[0] + WhichFormat\n",
    "        name.append(ss)\n",
    "    return name\n",
    "\n",
    "# 条件筛选（按照营业部）客户\n",
    "def SelectBySales(df):\n",
    "    #df = pd.read_csv(data)\n",
    "    df0 = df[(df['经营单元'] == '深圳深南大道(单元)')]\n",
    "    return df0\n",
    "\n",
    "#按“客户编号”列去重，方便后面的分组求和后的字符匹配\n",
    "def  DeDuplication(df0):\n",
    "    # 去重，为了后面匹配汉子字符\n",
    "    df1 = df0.drop_duplicates(['客户编号'])\n",
    "    # 把需要求和的、客户编号、时间删掉\n",
    "    df1 = df1.drop(df1.ix[ : ,[ 0,-1,-2,-3,-4,-5,-6]], axis = 1)\n",
    "    # 重新设置为文档\n",
    "    df1 = df1.reset_index()\n",
    "    # 把第一列删掉\n",
    "    df1 = df1.drop(df1.ix[ : ,[0]], axis = 1)\n",
    "    return df1\n",
    "\n",
    "# 计算客户周期内的各种数据之和\n",
    "def SumClientData(df0):\n",
    "    df2 = df0.groupby('客户编号').agg(np.sum).reset_index()\n",
    "    df2 = df2.drop(df2.ix[ : , ['月份','人员编号']], axis = 1)\n",
    "    return df2\n",
    "\n",
    "# 进行匹配并保存\n",
    "def MatchClientData(df1, df2):\n",
    "    df3 = pd.merge(df1, df2, how = 'left', on='客户编号')\n",
    "    return df3\n",
    "\n",
    "# 主程序部分\n",
    "DataList = GetRawDataName(path = r'E:\\Work\\CFZZ\\Data\\PreData2')\n",
    "NameList = RowToPreName(RawDataName = DataList, WhichFormat = '.xlsx')\n",
    "for i in range(len(DataList)):\n",
    "    df = pd.read_csv(DataList[i])  \n",
    "    df0 = SelectBySales(df = df)\n",
    "    df1 = DeDuplication(df0 = df0)\n",
    "    df2 = SumClientData(df0 = df0)\n",
    "    df3 = MatchClientData(df1 = df1, df2 = df2)\n",
    "    name = NameList[i]\n",
    "    df3.to_excel(name, index = None)"
   ]
  },
  {
   "cell_type": "code",
   "execution_count": 6,
   "metadata": {
    "collapsed": false
   },
   "outputs": [],
   "source": [
    "# 合并相加两个2016年的表\n",
    "os.chdir( r'E:\\Work\\CFZZ\\Data\\WorkData2\\Step2')\n",
    "df = pd.read_excel('2016年.xlsx') \n",
    "\n",
    "df0 = SelectBySales(df = df)\n",
    "\n",
    "df1 = df0.drop_duplicates(['客户编号'])\n",
    "# 把需要求和的、客户编号、时间删掉\n",
    "df1 = df1.drop(df1.ix[ : ,[-1,-2,-3,-4,-5,-6]], axis = 1)\n",
    "# 重新设置为文档\n",
    "df1 = df1.reset_index()\n",
    "# 把第一列删掉\n",
    "df1 = df1.drop(df1.ix[ : ,[0]], axis = 1)\n",
    "\n",
    "df2 = df0.groupby('客户编号').agg(np.sum).reset_index()\n",
    "df2 = df2.drop(df2.ix[ : , ['人员编号']], axis = 1)\n",
    "\n",
    "ddf3 = pd.merge(df1, df2, how = 'outer', on='客户编号')\n",
    "df3.to_excel('2016年汇总.xlsx', index = None)"
   ]
  },
  {
   "cell_type": "code",
   "execution_count": 8,
   "metadata": {
    "collapsed": false
   },
   "outputs": [],
   "source": [
    "# 计算2016均值\n",
    "os.chdir( r'E:\\Work\\CFZZ\\Data\\WorkData2\\Step2')\n",
    "df = pd.read_excel('2016年汇总.xlsx') \n",
    "for i in range(7,13):\n",
    "    df.ix[:,[i]] = df.ix[:,[i]]/12\n",
    "df.to_excel('2016年月均.xlsx', index = None)"
   ]
  },
  {
   "cell_type": "code",
   "execution_count": 9,
   "metadata": {
    "collapsed": true
   },
   "outputs": [],
   "source": [
    "# 计算2017前5月均值\n",
    "os.chdir( r'E:\\Work\\CFZZ\\Data\\WorkData2\\Step2')\n",
    "df = pd.read_excel('201701-201705存量.xlsx') \n",
    "for i in range(7,13):\n",
    "    df.ix[:,[i]] = df.ix[:,[i]]/5\n",
    "df.to_excel('2015年前5月均值.xlsx', index = None)"
   ]
  },
  {
   "cell_type": "code",
   "execution_count": 11,
   "metadata": {
    "collapsed": false
   },
   "outputs": [],
   "source": [
    "# 手动加和了佣金\n",
    "# 匹配去年和今年的差别\n",
    "os.chdir( r'E:\\Work\\CFZZ\\Data\\WorkData2\\Step2')\n",
    "df1 = pd.read_excel('2016年月均.xlsx') \n",
    "df2 = pd.read_excel('2015年前5月均值.xlsx')\n",
    "df = pd.merge(df1,df2,how='outer',on='客户编号')\n",
    "df.to_excel('深南存量比较.xlsx'， index = None)"
   ]
  },
  {
   "cell_type": "code",
   "execution_count": null,
   "metadata": {
    "collapsed": true
   },
   "outputs": [],
   "source": []
  }
 ],
 "metadata": {
  "anaconda-cloud": {},
  "kernelspec": {
   "display_name": "Python [conda root]",
   "language": "python",
   "name": "conda-root-py"
  },
  "language_info": {
   "codemirror_mode": {
    "name": "ipython",
    "version": 3
   },
   "file_extension": ".py",
   "mimetype": "text/x-python",
   "name": "python",
   "nbconvert_exporter": "python",
   "pygments_lexer": "ipython3",
   "version": "3.5.2"
  }
 },
 "nbformat": 4,
 "nbformat_minor": 1
}
